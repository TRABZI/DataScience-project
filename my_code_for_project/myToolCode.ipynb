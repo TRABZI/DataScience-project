{
 "cells": [
  {
   "cell_type": "code",
   "execution_count": null,
   "metadata": {},
   "outputs": [],
   "source": [
    "!pip install Owlready2\n",
    "!pip install rdflib\n",
    "!pip install python-Levenshtein\n",
    "!pip install distance"
   ]
  },
  {
   "cell_type": "code",
   "execution_count": 33,
   "metadata": {},
   "outputs": [],
   "source": [
    "import os\n",
    "import tarfile, requests\n",
    "import rdflib\n",
    "import difflib\n",
    "import distance\n",
    "import distance, Levenshtein\n",
    "import tarfile, requests\n",
    "\n",
    "from owlready2 import *\n",
    "from dateutil import parser\n",
    "from owlready2 import *\n",
    "from rdflib import Graph\n",
    "from sklearn.metrics import precision_recall_fscore_support\n"
   ]
  },
  {
   "cell_type": "markdown",
   "metadata": {},
   "source": [
    "# Download data from URI link"
   ]
  },
  {
   "cell_type": "code",
   "execution_count": 34,
   "metadata": {},
   "outputs": [
    {
     "name": "stdout",
     "output_type": "stream",
     "text": [
      "file already exists\n",
      "['iimb_large_30082010.tgz', 'myToolCode.ipynb', '.ipynb_checkpoints', 'IIMB_LARGE']\n"
     ]
    }
   ],
   "source": [
    "if 'iimb_large_30082010.tgz' not in os.listdir():\n",
    "    !wget http://oaei.ontologymatching.org/2010/im/iimb_large_30082010.tgz\n",
    "else:\n",
    "    print(\"file already exists\")\n",
    "    \n",
    "print(os.listdir())\n"
   ]
  },
  {
   "cell_type": "markdown",
   "metadata": {},
   "source": [
    "# Unpack tgz file "
   ]
  },
  {
   "cell_type": "code",
   "execution_count": 35,
   "metadata": {},
   "outputs": [
    {
     "name": "stdout",
     "output_type": "stream",
     "text": [
      "directory:\n",
      " ['iimb_large_30082010.tgz', 'myToolCode.ipynb', '.ipynb_checkpoints', 'IIMB_LARGE']\n"
     ]
    }
   ],
   "source": [
    "full_path_tar_file=os.path.abspath(\"iimb_large_30082010.tgz\")\n",
    "tar = tarfile.open(full_path_tar_file)\n",
    "tar.extractall()\n",
    "print(\"directory:\\n\",os.listdir())\n"
   ]
  },
  {
   "cell_type": "markdown",
   "metadata": {},
   "source": [
    "# Print full paths , Load ontologies, parse refalign graphe"
   ]
  },
  {
   "cell_type": "code",
   "execution_count": 48,
   "metadata": {},
   "outputs": [
    {
     "name": "stdout",
     "output_type": "stream",
     "text": [
      "IIMB_LARGE $PATH =  /home/amine/2020_2021_Data_Science/projet_KGD/my_code_for_project/IIMB_LARGE\n",
      "iimb_large_30082010.tgz $PATH = /home/amine/2020_2021_Data_Science/projet_KGD/my_code_for_project/iimb_large_30082010.tgz\n",
      "refaligne $PATH = /home/amine/2020_2021_Data_Science/projet_KGD/my_code_for_project/iimb_large_30082010.tgz\n"
     ]
    },
    {
     "data": {
      "text/plain": [
       "<Graph identifier=N5a09e07266164d2a8810b298f2e84fc3 (<class 'rdflib.graph.Graph'>)>"
      ]
     },
     "execution_count": 48,
     "metadata": {},
     "output_type": "execute_result"
    }
   ],
   "source": [
    "# Print full paths\n",
    "full_path_IIMB_LARGE=os.path.abspath(\"IIMB_LARGE\")\n",
    "print(\"IIMB_LARGE $PATH = \",full_path_IIMB_LARGE)\n",
    "print(\"iimb_large_30082010.tgz $PATH =\",full_path_tar_file)\n",
    "\n",
    "ref_file_name=\"refalign.rdf\"\n",
    "directory=os.path.join(full_path_IIMB_LARGE+'/001',ref_file_name)\n",
    "full_path_refalign=os.path.abspath(directory)\n",
    "print(\"refaligne $PATH =\",full_path_tar_file)\n",
    "\n",
    "\n",
    "# Load ontologies\n",
    "onto = get_ontology(full_path_IIMB_LARGE+\"/000/onto.owl\").load()\n",
    "onto2 = get_ontology(full_path_IIMB_LARGE+\"/001/onto.owl\").load()\n",
    "\n",
    "\n",
    "# parse refaligne graphe\n",
    "g_ref = Graph()\n",
    "g_ref.parse(full_path_refalign, format=\"xml\")\n"
   ]
  },
  {
   "cell_type": "markdown",
   "metadata": {},
   "source": [
    "# Exctract functional properties by creating get_func_prop function"
   ]
  },
  {
   "cell_type": "code",
   "execution_count": 39,
   "metadata": {},
   "outputs": [],
   "source": [
    "def Func(a,b):\n",
    "    func=a/b  \n",
    "    return func\n",
    "    \n",
    "def get_func_prop(onto,threshold):    \n",
    "    properties=[]\n",
    "    str_properties=[]\n",
    "    num_duplic_properties=[]\n",
    "    num_uniq_properties=[]\n",
    "\n",
    "    for i in onto.properties():\n",
    "        properties.append(i)\n",
    "    \n",
    "    buffer1=0\n",
    "    for i in properties:\n",
    "        str_properties.append(str(i).split('.')[1])\n",
    "        buffer1=len(list(i.get_relations()))\n",
    "        num_duplic_properties.append(buffer1)\n",
    "\n",
    "    i=0\n",
    "    j=0\n",
    "    get_rel=[]\n",
    "    num_uniq_properties=[]\n",
    "    func_prop={}\n",
    "    for n in properties:\n",
    "        uniq_prop_relations=[]\n",
    "        get_rel=list(properties[i].get_relations())\n",
    "        for k in get_rel: \n",
    "            if k[0] not in uniq_prop_relations:\n",
    "                uniq_prop_relations.append(k[0])\n",
    "        num_uniq_properties.append(len(uniq_prop_relations))\n",
    "        a=num_uniq_properties[j]\n",
    "        b=num_duplic_properties[j]\n",
    "        if b!=0:\n",
    "            func_prop[n]=Func(a,b)\n",
    "        j=j+1    \n",
    "        i=i+1\n",
    "        \n",
    "        # Threshold 1 -------------------------\n",
    "    print(\"Functionnal properties, After threshold=%d applied: \\n \"%threshold)\n",
    "    validated_func_properties=[]\n",
    "    threshold=1\n",
    "    for i in func_prop: \n",
    "        if func_prop[i]>=threshold:\n",
    "            validated_func_properties.append(i)\n",
    "    print(\"propertiesFunctionality:\\n\",func_prop)\n",
    "    print(\"\\nvalidatedFuncPropeties:\\n\",validated_func_properties,\"\\n\")\n",
    "\n",
    "    return validated_func_properties\n",
    "\n"
   ]
  },
  {
   "cell_type": "markdown",
   "metadata": {},
   "source": [
    "# We create the function compare_prop to compare properties"
   ]
  },
  {
   "cell_type": "code",
   "execution_count": 38,
   "metadata": {},
   "outputs": [],
   "source": [
    "def compare_prop(entity1,entity2,Property,scoreList):\n",
    "    \n",
    "    if Property==\"gender\":\n",
    "        ent1=str(getattr(entity1,str(Property))[0]).lower()[0]\n",
    "        ent2=str(getattr(entity2,str(Property))[0]).lower()[0]\n",
    "                     \n",
    "    elif Property==\"name\":\n",
    "        ent1=str(entity1.__getattr__(Property)[0]).lower()\n",
    "        ent2=str(entity2.__getattr__(Property)[0]).lower()\n",
    "                        \n",
    "    elif Property==\"amount\":\n",
    "        ent1 = str(float(str(getattr(entity1,Property)[0])))\n",
    "        ent2 = str(float(str(getattr(entity2,Property)[0])))\n",
    "                    \n",
    "    else:\n",
    "        ent1=str(getattr(entity1,str(Property))[0]).lower().replace(\"-\", \"/\")\n",
    "        ent2=str(getattr(entity2,str(Property))[0]).lower().replace(\"-\", \"/\")\n",
    "                        \n",
    "    leven = Levenshtein.ratio(ent1, ent2) \n",
    "    jac = 1 - distance.jaccard(ent1, ent2)\n",
    "    sor = 1 - distance.sorensen(ent1, ent2)\n",
    "    scoreList.append((leven + sor + jac)/3)\n",
    "\n",
    "    return None"
   ]
  },
  {
   "cell_type": "markdown",
   "metadata": {},
   "source": [
    "# Invalidation Tool "
   ]
  },
  {
   "cell_type": "code",
   "execution_count": 44,
   "metadata": {},
   "outputs": [],
   "source": [
    "# Tool\n",
    "\n",
    "def tool(g_ref,onto,onto2,func_prop,dataProp,dataTypProperties,objectProperties,conf):\n",
    "    \n",
    "    ref_qres = g_ref.query(\"SELECT ?a ?b WHERE {?c a <http://knowledgeweb.semanticweb.org/heterogeneity/alignment#Cell> ; <http://knowledgeweb.semanticweb.org/heterogeneity/alignment#entity1> ?a; <http://knowledgeweb.semanticweb.org/heterogeneity/alignment#entity2> ?b . }\")\n",
    "\n",
    "    ground_true = []\n",
    "    measures_predicted = []\n",
    "    false_detected_rules=[]\n",
    "\n",
    "    counter=0\n",
    "    for row in ref_qres:\n",
    "        ground_true.append(1)\n",
    "        entity1 = onto.search_one(iri = str(row[0]))\n",
    "        entity2 = onto2.search_one(iri = str(row[1]))\n",
    "        \n",
    "        scoreList=[]\n",
    "        for p in func_prop:\n",
    "            Property=str(p).split('.')[1]\n",
    "            \n",
    "            if Property in dataTypProperties:\n",
    "                a=[r[0] for r in p.get_relations()]\n",
    "                if entity1 in a and entity2 in a:\n",
    "                    compare_prop(entity1,entity2,Property,scoreList)\n",
    "\n",
    "            if Property in objectProperties:\n",
    "                b=[r[0] for r in p.get_relations()]\n",
    "                if entity1 in b and entity2 in b:\n",
    "                    propComp1 = getattr(entity1,str(Property))[0]\n",
    "                    propComp2 = getattr(entity2,str(Property))[0]\n",
    "                    for ii in dataProp:\n",
    "                        Prop=str(ii).split('.')[1]\n",
    "                        cc=[rr[0] for rr in ii.get_relations()]\n",
    "                        if propComp1 in cc and propComp2 in cc:\n",
    "                            compare_prop(propComp1,propComp1,Prop,scoreList)\n",
    "        \n",
    "        if len(scoreList)!=0:\n",
    "            if sum(scoreList)/len(scoreList) >= conf:\n",
    "                measures_predicted.append(1)\n",
    "            else:\n",
    "                measures_predicted.append(0)\n",
    "                false_detected_rules.append((str(row[0]),str(row[1])))\n",
    "        else:\n",
    "            measures_predicted.append(0)\n",
    "            false_detected_rules.append((str(row[0]),str(row[1])))\n",
    "        \n",
    "\n",
    "    print(false_detected_rules)\n",
    "    metrics = precision_recall_fscore_support(ground_true, measures_predicted, average='micro')\n",
    "    print(\"---------------------\")\n",
    "    print(\"Precision: %f\"%metrics[0])\n",
    "    print(\"Recall: %f\"%metrics[1])\n",
    "    print(\"F-score: %f\"%metrics[2])\n",
    "    \n",
    "    return None\n"
   ]
  },
  {
   "cell_type": "markdown",
   "metadata": {},
   "source": [
    "# Tests"
   ]
  },
  {
   "cell_type": "code",
   "execution_count": 42,
   "metadata": {},
   "outputs": [
    {
     "name": "stdout",
     "output_type": "stream",
     "text": [
      "Functionnal properties, After threshold=1 applied: \n",
      " \n",
      "propertiesFunctionality:\n",
      " {IIMBTBOX.amount: 1.0, IIMBTBOX.article: 1.0, IIMBTBOX.calling_code: 1.0, IIMBTBOX.currency: 0.9411764705882353, IIMBTBOX.date_of_birth: 1.0, IIMBTBOX.dialect: 0.13333333333333333, IIMBTBOX.form_of_government: 0.4261168384879725, IIMBTBOX.gender: 1.0, IIMBTBOX.iso_639_1_code: 1.0, IIMBTBOX.name: 1.0, IIMBTBOX.religion: 0.9195402298850575, IIMBTBOX.size: 1.0, IIMBTBOX.acted_by: 0.9953271028037384, IIMBTBOX.born_in: 1.0, IIMBTBOX.capital: 0.9548872180451128, IIMBTBOX.has_capital: 1.0, IIMBTBOX.created_by: 0.8125, IIMBTBOX.creates: 0.34375, IIMBTBOX.directed_by: 0.8849557522123894, IIMBTBOX.directs: 0.911504424778761, IIMBTBOX.estimated_budget_used: 1.0, IIMBTBOX.filmed_in: 0.8547008547008547, IIMBTBOX.mainly_spoken_in: 0.6666666666666666, IIMBTBOX.spoken_in: 0.06976744186046512, IIMBTBOX.native_city_of: 0.6321585903083701, IIMBTBOX.performs: 0.9439252336448598, IIMBTBOX.shot_in: 0.9174311926605505, IIMBTBOX.starring_in: 0.1360544217687075}\n",
      "\n",
      "validatedFuncPropeties:\n",
      " [IIMBTBOX.amount, IIMBTBOX.article, IIMBTBOX.calling_code, IIMBTBOX.date_of_birth, IIMBTBOX.gender, IIMBTBOX.iso_639_1_code, IIMBTBOX.name, IIMBTBOX.size, IIMBTBOX.born_in, IIMBTBOX.has_capital, IIMBTBOX.estimated_budget_used] \n",
      "\n",
      "func_prop:\n",
      " [IIMBTBOX.amount, IIMBTBOX.article, IIMBTBOX.calling_code, IIMBTBOX.date_of_birth, IIMBTBOX.gender, IIMBTBOX.iso_639_1_code, IIMBTBOX.name, IIMBTBOX.size, IIMBTBOX.born_in, IIMBTBOX.has_capital, IIMBTBOX.estimated_budget_used]\n",
      "\n",
      "funcObjProp:\n",
      " {'born_in': 1, 'has_capital': 1, 'estimated_budget_used': 1}\n",
      "\n",
      "funcDataTypeProp:\n",
      " {'amount': 1, 'article': 1, 'calling_code': 1, 'date_of_birth': 1, 'gender': 1, 'iso_639_1_code': 1, 'name': 1, 'size': 1}\n"
     ]
    }
   ],
   "source": [
    "# Extracting func properties\n",
    "\n",
    "\n",
    "func_prop=get_func_prop(onto,1)\n",
    "\n",
    "#-------------------PRINTS----------------------------\n",
    "\n",
    "print(\"func_prop:\\n\")\n",
    "print(\"----------\\n\",func_prop)\n",
    "\n",
    "objectProperties={}\n",
    "dataTypProperties={}\n",
    "dataProp=[]\n",
    "for prop in onto.object_properties():\n",
    "        if prop in func_prop:\n",
    "            name = str(prop).split('.')[1]\n",
    "            objectProperties[name]=1\n",
    "print(\"\\nfuncObjProp:\\n\")\n",
    "print(\"--------------\\n\",objectProperties)\n",
    "\n",
    "for prop in onto.data_properties():\n",
    "        if prop in func_prop:\n",
    "            name = str(prop).split('.')[1]\n",
    "            dataTypProperties[name]=1\n",
    "            dataProp.append(prop)\n",
    "print(\"\\nfuncDataTypeProp:\\n\")\n",
    "print(\"-------------------\\n\",dataTypProperties)\n",
    "\n",
    "#------------------------------------------------------"
   ]
  },
  {
   "cell_type": "code",
   "execution_count": 47,
   "metadata": {},
   "outputs": [
    {
     "name": "stdout",
     "output_type": "stream",
     "text": [
      "[('http://oaei.ontologymatching.org/2010/IIMBDATA/m/0k39kc', 'http://oaei.ontologymatching.org/2010/IIMBDATA/m/item6150292023606147640'), ('http://oaei.ontologymatching.org/2010/IIMBDATA/m/0k38l1', 'http://oaei.ontologymatching.org/2010/IIMBDATA/m/item1871041914381761043'), ('http://oaei.ontologymatching.org/2010/IIMBDATA/m/0k3nph', 'http://oaei.ontologymatching.org/2010/IIMBDATA/m/item1725485724461512562'), ('http://oaei.ontologymatching.org/2010/IIMBDATA/m/0k380q', 'http://oaei.ontologymatching.org/2010/IIMBDATA/m/item2427401387451985825'), ('http://oaei.ontologymatching.org/2010/IIMBDATA/m/0k3hsf', 'http://oaei.ontologymatching.org/2010/IIMBDATA/m/item563854137234860973'), ('http://oaei.ontologymatching.org/2010/IIMBDATA/m/0k40f7', 'http://oaei.ontologymatching.org/2010/IIMBDATA/m/item3334473067559942377'), ('http://oaei.ontologymatching.org/2010/IIMBDATA/m/0k3r4l', 'http://oaei.ontologymatching.org/2010/IIMBDATA/m/item4182069180489509643'), ('http://oaei.ontologymatching.org/2010/IIMBDATA/m/0k35p3', 'http://oaei.ontologymatching.org/2010/IIMBDATA/m/item423143656613386557'), ('http://oaei.ontologymatching.org/2010/IIMBDATA/m/0k2yzw', 'http://oaei.ontologymatching.org/2010/IIMBDATA/m/item6258474600648299852'), ('http://oaei.ontologymatching.org/2010/IIMBDATA/m/0k34zq', 'http://oaei.ontologymatching.org/2010/IIMBDATA/m/item8928618876417073945'), ('http://oaei.ontologymatching.org/2010/IIMBDATA/m/0k3w6x', 'http://oaei.ontologymatching.org/2010/IIMBDATA/m/item6165053492699883823'), ('http://oaei.ontologymatching.org/2010/IIMBDATA/m/0k3gc_', 'http://oaei.ontologymatching.org/2010/IIMBDATA/m/item5079640191606831507'), ('http://oaei.ontologymatching.org/2010/IIMBDATA/m/0k2xp5', 'http://oaei.ontologymatching.org/2010/IIMBDATA/m/item4918949781896239979'), ('http://oaei.ontologymatching.org/2010/IIMBDATA/m/0k3yfv', 'http://oaei.ontologymatching.org/2010/IIMBDATA/m/item781911020134467059'), ('http://oaei.ontologymatching.org/2010/IIMBDATA/m/0k2_4n', 'http://oaei.ontologymatching.org/2010/IIMBDATA/m/item4260730274751475355')]\n",
      "---------------------\n",
      "Precision: 0.989407\n",
      "Recall: 0.989407\n",
      "F-score: 0.989407\n"
     ]
    }
   ],
   "source": [
    "tool(g_ref,onto,onto2,func_prop,dataProp,dataTypProperties,objectProperties,0.65)"
   ]
  },
  {
   "cell_type": "code",
   "execution_count": null,
   "metadata": {},
   "outputs": [],
   "source": []
  }
 ],
 "metadata": {
  "kernelspec": {
   "display_name": "Python 3",
   "language": "python",
   "name": "python3"
  },
  "language_info": {
   "codemirror_mode": {
    "name": "ipython",
    "version": 3
   },
   "file_extension": ".py",
   "mimetype": "text/x-python",
   "name": "python",
   "nbconvert_exporter": "python",
   "pygments_lexer": "ipython3",
   "version": "3.8.3"
  }
 },
 "nbformat": 4,
 "nbformat_minor": 4
}
